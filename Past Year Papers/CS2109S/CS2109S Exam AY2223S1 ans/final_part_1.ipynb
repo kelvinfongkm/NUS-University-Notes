{
 "cells": [
  {
   "cell_type": "markdown",
   "metadata": {},
   "source": [
    "# Question 1: 9-Puzzle (Revisited) [20 Marks]\n",
    "\n",
    "In lecture, we discussed the following puzzle:\n",
    "\n",
    "<img src=\"9-puzzle.jpg\" width=\"600\">\n",
    "\n",
    "The puzzle consists of 8 tiles on a 3x3 grid. In each step, you can move a tile into the empty space on the grid. \n",
    "Your goal is to move the tiles into the configuration shown on the right from the starting configuration. \n",
    "        \n",
    "The starting configuration is given as a tuple of 3 triplet-tuples. For example, the configuration for the \n",
    "example on the left would be given by\n",
    "```\n",
    "( (7,2,4),\n",
    "  (5,0,6),\n",
    "  (8,3,1) )\n",
    "```\n",
    "i.e. the position of the blank is indicated with `0`. \n",
    "    \n",
    "In this problem, you will write a Python function `solve_puzzle` to solve this puzzle.\n",
    "    \n",
    "The output of your program should be a tuple of the moves needed to solve the puzzle in the minimal number of steps. The moves should be indicated with `'U'`, `'D'`, `'L'`, `'R'`, corresponding to moving a tile \"Up\", \"Down\", \"Left\" and \"Right\" into the empty space respectively.  If the puzzle cannot be solved, return `False` instead.\n",
    "    \n",
    "There could be multiple answers that can solve the problem with the same (minimal) number of steps for a given configuration. You can return any of them. \n",
    "\n",
    "You are only required to come up with a correct implementation in this question. Your code does not necessarily need to be efficient, but keep in mind that if your code is not efficient, (all) your test cases on Coursemology might fail because of timeout. If your code is correct and efficient, it will definitely pass the test cases on Coursemology. "
   ]
  },
  {
   "cell_type": "code",
   "execution_count": 1,
   "metadata": {},
   "outputs": [],
   "source": [
    "def find_blank(grid):\n",
    "    for i in range(len(grid)):\n",
    "        row = grid[i]\n",
    "        for j in range(len(row)):\n",
    "            if row[j]==0:\n",
    "                return (i,j)\n",
    "    return None\n",
    "\n",
    "#How the blank can move\n",
    "moves = {(0,0):[\"L\",\"U\"],\\\n",
    "         (0,1):[\"R\",\"U\",\"L\"],\\\n",
    "         (0,2):[\"R\",\"U\"],\\\n",
    "         (1,0):[\"L\",\"D\",\"U\"],\\\n",
    "         (1,1):[\"R\",\"D\",\"L\",\"U\"],\\\n",
    "         (1,2):[\"R\",\"D\",\"U\"],\\\n",
    "         (2,0):[\"L\",\"D\"],\\\n",
    "         (2,1):[\"R\",\"L\",\"D\"],\\\n",
    "         (2,2):[\"R\",\"D\"]}            \n",
    "\n",
    "def move_blank(grid,move):\n",
    "    x,y = find_blank(grid)\n",
    "    return_val = []\n",
    "    for row in grid:\n",
    "        return_val.append(list(row))\n",
    "    if move==\"D\":\n",
    "        if x == 0:\n",
    "            return grid\n",
    "        else:\n",
    "            return_val[x-1][y],return_val[x][y] = return_val[x][y],return_val[x-1][y]\n",
    "    elif move==\"U\":\n",
    "        if x == 2:\n",
    "            return grid\n",
    "        else:\n",
    "            return_val[x+1][y],return_val[x][y] = return_val[x][y],return_val[x+1][y]\n",
    "    elif move==\"R\":\n",
    "        if y == 0:\n",
    "            return grid\n",
    "        else:\n",
    "            return_val[x][y],return_val[x][y-1] = return_val[x][y-1],return_val[x][y]\n",
    "    elif move==\"L\":\n",
    "        if y == 2:\n",
    "            return grid\n",
    "        else:\n",
    "            return_val[x][y],return_val[x][y+1] = return_val[x][y+1],return_val[x][y]\n",
    "    else:\n",
    "        print(\"Invalid move\")\n",
    "        return\n",
    "    return tuple(map(lambda row:tuple(row), return_val))\n",
    "\n",
    "def solve_puzzle(grid):  # Code copied from Exam Review. \n",
    "    def is_goal(node):\n",
    "        state, steps = node\n",
    "        return state == ((0,1,2),(3,4,5),(6,7,8))\n",
    "\n",
    "    def expand(node):\n",
    "        state, steps = node\n",
    "        result = []\n",
    "        possible_moves = moves[find_blank(node[0])]\n",
    "        for move in possible_moves:\n",
    "            next_move = move_blank(node[0],move)\n",
    "            new_node = (next_move,node[1].copy())\n",
    "            new_node[1].append(move) \n",
    "            result.append(new_node)\n",
    "        return result\n",
    "    \n",
    "    queue = []\n",
    "    initial_state = (grid,[])\n",
    "    queue.append(initial_state)\n",
    "    seen = set()\n",
    "    \n",
    "    while queue:\n",
    "        current = queue.pop(0)\n",
    "        #print(current)\n",
    "        if is_goal(current):\n",
    "            return current[1]\n",
    "        else:\n",
    "            for move in expand(current):\n",
    "                state, steps = move\n",
    "                if state not in seen:\n",
    "                    seen.add(state)\n",
    "                    queue.append(move)\n",
    "    return False\n"
   ]
  },
  {
   "cell_type": "code",
   "execution_count": 2,
   "metadata": {},
   "outputs": [
    {
     "data": {
      "text/plain": [
       "['D', 'R']"
      ]
     },
     "execution_count": 2,
     "metadata": {},
     "output_type": "execute_result"
    }
   ],
   "source": [
    "solve_puzzle((\n",
    "    (1, 4, 2),\n",
    "    (3, 0, 5),\n",
    "    (6, 7, 8),\n",
    ")) # ('D', 'R')"
   ]
  },
  {
   "cell_type": "code",
   "execution_count": 3,
   "metadata": {},
   "outputs": [
    {
     "data": {
      "text/plain": [
       "['R', 'D', 'R', 'D']"
      ]
     },
     "execution_count": 3,
     "metadata": {},
     "output_type": "execute_result"
    }
   ],
   "source": [
    "solve_puzzle((\n",
    "    (3, 1, 2),\n",
    "    (4, 7, 5),\n",
    "    (6, 8, 0),\n",
    ")) # ('R', 'D', 'R', 'D')"
   ]
  },
  {
   "cell_type": "code",
   "execution_count": 4,
   "metadata": {},
   "outputs": [
    {
     "data": {
      "text/plain": [
       "False"
      ]
     },
     "execution_count": 4,
     "metadata": {},
     "output_type": "execute_result"
    }
   ],
   "source": [
    "solve_puzzle((\n",
    "    (1, 4, 3),\n",
    "    (0, 2, 5),\n",
    "    (7, 8, 6),\n",
    ")) # False"
   ]
  }
 ],
 "metadata": {
  "kernelspec": {
   "display_name": "Python 3 (ipykernel)",
   "language": "python",
   "name": "python3"
  },
  "language_info": {
   "codemirror_mode": {
    "name": "ipython",
    "version": 3
   },
   "file_extension": ".py",
   "mimetype": "text/x-python",
   "name": "python",
   "nbconvert_exporter": "python",
   "pygments_lexer": "ipython3",
   "version": "3.9.10"
  },
  "vscode": {
   "interpreter": {
    "hash": "9962d94577a72da81b55e09d9e5284553e9b51ef3328f5dc4eb0655903faae7b"
   }
  }
 },
 "nbformat": 4,
 "nbformat_minor": 2
}
